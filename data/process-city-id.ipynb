{
 "cells": [
  {
   "cell_type": "code",
   "execution_count": 2,
   "metadata": {},
   "outputs": [],
   "source": [
    "import json\n",
    "import pandas as pd"
   ]
  },
  {
   "cell_type": "code",
   "execution_count": 2,
   "metadata": {},
   "outputs": [],
   "source": [
    "cities = json.load(open(\"city_list.json\", \"r\"))"
   ]
  },
  {
   "cell_type": "code",
   "execution_count": 3,
   "metadata": {},
   "outputs": [
    {
     "name": "stdout",
     "output_type": "stream",
     "text": [
      "[{'id': 2960, 'name': '‘Ayn Ḩalāqīm', 'state': '', 'country': 'SY', 'coord': {'lon': 36.321911, 'lat': 34.940079}}, {'id': 3245, 'name': 'Taglag', 'state': '', 'country': 'IR', 'coord': {'lon': 44.98333, 'lat': 38.450001}}, {'id': 3530, 'name': 'Qabāghlū', 'state': '', 'country': 'IR', 'coord': {'lon': 46.168499, 'lat': 36.173302}}, {'id': 5174, 'name': '‘Arīqah', 'state': '', 'country': 'SY', 'coord': {'lon': 36.48336, 'lat': 32.889809}}, {'id': 7264, 'name': 'Kalāteh-ye Dowlat', 'state': '', 'country': 'IR', 'coord': {'lon': 57.616982, 'lat': 36.163841}}, {'id': 8084, 'name': 'Behjatābād', 'state': '', 'country': 'IR', 'coord': {'lon': 51.461639, 'lat': 36.667431}}, {'id': 9874, 'name': 'Ţālesh Maḩalleh', 'state': '', 'country': 'IR', 'coord': {'lon': 50.679192, 'lat': 36.894329}}, {'id': 11263, 'name': 'Shahrīār Kandeh', 'state': '', 'country': 'IR', 'coord': {'lon': 53.19902, 'lat': 36.631939}}, {'id': 11754, 'name': 'Bālā Aḩmad Kolā', 'state': '', 'country': 'IR', 'coord': {'lon': 52.667271, 'lat': 36.649059}}]\n"
     ]
    }
   ],
   "source": [
    "# check that reading worked\n",
    "print(cities[1:10])"
   ]
  },
  {
   "cell_type": "code",
   "execution_count": null,
   "metadata": {},
   "outputs": [],
   "source": []
  },
  {
   "cell_type": "code",
   "execution_count": 6,
   "metadata": {},
   "outputs": [],
   "source": [
    "# filter list to Canadian entries\n",
    "city_listing = list(filter(lambda entry: entry['name'] == 'Montréal' and entry['country'] == 'CA', cities))[0]"
   ]
  },
  {
   "cell_type": "code",
   "execution_count": 7,
   "metadata": {},
   "outputs": [
    {
     "data": {
      "text/plain": [
       "6077243"
      ]
     },
     "execution_count": 7,
     "metadata": {},
     "output_type": "execute_result"
    }
   ],
   "source": [
    "city_listing['id']"
   ]
  },
  {
   "cell_type": "code",
   "execution_count": 11,
   "metadata": {},
   "outputs": [
    {
     "name": "stdout",
     "output_type": "stream",
     "text": [
      "Collecting country_converter\n",
      "  Downloading country_converter-0.7.1.tar.gz (47 kB)\n",
      "\u001b[K     |████████████████████████████████| 47 kB 5.9 MB/s  eta 0:00:01\n",
      "\u001b[?25hRequirement already satisfied, skipping upgrade: pandas>=0.17.0 in /home/mkshaw/miniconda3/lib/python3.8/site-packages (from country_converter) (1.1.1)\n",
      "Requirement already satisfied, skipping upgrade: python-dateutil>=2.7.3 in /home/mkshaw/miniconda3/lib/python3.8/site-packages (from pandas>=0.17.0->country_converter) (2.8.1)\n",
      "Requirement already satisfied, skipping upgrade: numpy>=1.15.4 in /home/mkshaw/miniconda3/lib/python3.8/site-packages (from pandas>=0.17.0->country_converter) (1.19.1)\n",
      "Requirement already satisfied, skipping upgrade: pytz>=2017.2 in /home/mkshaw/miniconda3/lib/python3.8/site-packages (from pandas>=0.17.0->country_converter) (2020.1)\n",
      "Requirement already satisfied, skipping upgrade: six>=1.5 in /home/mkshaw/miniconda3/lib/python3.8/site-packages (from python-dateutil>=2.7.3->pandas>=0.17.0->country_converter) (1.14.0)\n",
      "Building wheels for collected packages: country-converter\n",
      "  Building wheel for country-converter (setup.py) ... \u001b[?25ldone\n",
      "\u001b[?25h  Created wheel for country-converter: filename=country_converter-0.7.1-py3-none-any.whl size=50806 sha256=ac8d8a6c6745924bb0e01af63aa7ffb9bb05aa8ec0b2c30f32aa5ba88bb1dc65\n",
      "  Stored in directory: /home/mkshaw/.cache/pip/wheels/93/a4/a5/f78c6e79b2b2eb70a1546406ca03339771795190e8b5470474\n",
      "Successfully built country-converter\n",
      "Installing collected packages: country-converter\n",
      "Successfully installed country-converter-0.7.1\n",
      "Note: you may need to restart the kernel to use updated packages.\n"
     ]
    }
   ],
   "source": [
    "pip install country_converter --upgrade"
   ]
  },
  {
   "cell_type": "code",
   "execution_count": 12,
   "metadata": {},
   "outputs": [],
   "source": [
    "import country_converter as coco"
   ]
  },
  {
   "cell_type": "code",
   "execution_count": 15,
   "metadata": {},
   "outputs": [
    {
     "name": "stdout",
     "output_type": "stream",
     "text": [
      "Canada\n",
      "CA\n"
     ]
    }
   ],
   "source": [
    "country = \"Canada\"\n",
    "country_ISO = coco.convert(country, to='ISO2')\n",
    "print(country)\n",
    "print(country_ISO)"
   ]
  },
  {
   "cell_type": "code",
   "execution_count": 7,
   "metadata": {},
   "outputs": [],
   "source": [
    "# import unidecode\n",
    "import unidecode"
   ]
  },
  {
   "cell_type": "code",
   "execution_count": 17,
   "metadata": {},
   "outputs": [
    {
     "data": {
      "text/plain": [
       "'Montreal'"
      ]
     },
     "execution_count": 17,
     "metadata": {},
     "output_type": "execute_result"
    }
   ],
   "source": [
    "# test unidecode\n",
    "cities_with_accents = [\"Montréal\", \"São Paulo\"]\n",
    "unidecode.unidecode(u'Montréal')"
   ]
  },
  {
   "cell_type": "code",
   "execution_count": 16,
   "metadata": {},
   "outputs": [
    {
     "ename": "SyntaxError",
     "evalue": "invalid syntax (<ipython-input-16-31d3e4a465d5>, line 2)",
     "output_type": "error",
     "traceback": [
      "\u001b[0;36m  File \u001b[0;32m\"<ipython-input-16-31d3e4a465d5>\"\u001b[0;36m, line \u001b[0;32m2\u001b[0m\n\u001b[0;31m    pip install unidecode\u001b[0m\n\u001b[0m        ^\u001b[0m\n\u001b[0;31mSyntaxError\u001b[0m\u001b[0;31m:\u001b[0m invalid syntax\n"
     ]
    }
   ],
   "source": [
    "# map unidecode to city names\n"
   ]
  }
 ],
 "metadata": {
  "kernelspec": {
   "display_name": "Python 3",
   "language": "python",
   "name": "python3"
  },
  "language_info": {
   "codemirror_mode": {
    "name": "ipython",
    "version": 3
   },
   "file_extension": ".py",
   "mimetype": "text/x-python",
   "name": "python",
   "nbconvert_exporter": "python",
   "pygments_lexer": "ipython3",
   "version": "3.8.3"
  }
 },
 "nbformat": 4,
 "nbformat_minor": 4
}
