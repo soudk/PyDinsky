{
 "cells": [
  {
   "cell_type": "code",
   "execution_count": 13,
   "metadata": {},
   "outputs": [],
   "source": [
    "import json\n",
    "import pandas as pd"
   ]
  },
  {
   "cell_type": "code",
   "execution_count": 19,
   "metadata": {},
   "outputs": [],
   "source": [
    "cities = json.load(open(\"city_list.json\", \"r\"))"
   ]
  },
  {
   "cell_type": "code",
   "execution_count": 28,
   "metadata": {},
   "outputs": [
    {
     "name": "stdout",
     "output_type": "stream",
     "text": [
      "[{'id': 2960, 'name': '‘Ayn Ḩalāqīm', 'state': '', 'country': 'SY', 'coord': {'lon': 36.321911, 'lat': 34.940079}}, {'id': 3245, 'name': 'Taglag', 'state': '', 'country': 'IR', 'coord': {'lon': 44.98333, 'lat': 38.450001}}, {'id': 3530, 'name': 'Qabāghlū', 'state': '', 'country': 'IR', 'coord': {'lon': 46.168499, 'lat': 36.173302}}, {'id': 5174, 'name': '‘Arīqah', 'state': '', 'country': 'SY', 'coord': {'lon': 36.48336, 'lat': 32.889809}}, {'id': 7264, 'name': 'Kalāteh-ye Dowlat', 'state': '', 'country': 'IR', 'coord': {'lon': 57.616982, 'lat': 36.163841}}, {'id': 8084, 'name': 'Behjatābād', 'state': '', 'country': 'IR', 'coord': {'lon': 51.461639, 'lat': 36.667431}}, {'id': 9874, 'name': 'Ţālesh Maḩalleh', 'state': '', 'country': 'IR', 'coord': {'lon': 50.679192, 'lat': 36.894329}}, {'id': 11263, 'name': 'Shahrīār Kandeh', 'state': '', 'country': 'IR', 'coord': {'lon': 53.19902, 'lat': 36.631939}}, {'id': 11754, 'name': 'Bālā Aḩmad Kolā', 'state': '', 'country': 'IR', 'coord': {'lon': 52.667271, 'lat': 36.649059}}]\n"
     ]
    }
   ],
   "source": [
    "# check that reading worked\n",
    "print(cities[1:10])"
   ]
  },
  {
   "cell_type": "code",
   "execution_count": 32,
   "metadata": {},
   "outputs": [
    {
     "data": {
      "text/plain": [
       "[{'id': 2992118,\n",
       "  'name': 'Montréal',\n",
       "  'state': '',\n",
       "  'country': 'FR',\n",
       "  'coord': {'lon': 0.20358, 'lat': 43.950161}},\n",
       " {'id': 2992119,\n",
       "  'name': 'Montréal',\n",
       "  'state': '',\n",
       "  'country': 'FR',\n",
       "  'coord': {'lon': 2.14122, 'lat': 43.199799}},\n",
       " {'id': 6077243,\n",
       "  'name': 'Montréal',\n",
       "  'state': '',\n",
       "  'country': 'CA',\n",
       "  'coord': {'lon': -73.587807, 'lat': 45.508839}},\n",
       " {'id': 6077246,\n",
       "  'name': 'Montréal',\n",
       "  'state': '',\n",
       "  'country': 'CA',\n",
       "  'coord': {'lon': -73.68248, 'lat': 45.50008}},\n",
       " {'id': 6432033,\n",
       "  'name': 'Montréal',\n",
       "  'state': '',\n",
       "  'country': 'FR',\n",
       "  'coord': {'lon': 0.2, 'lat': 43.950001}},\n",
       " {'id': 6453641,\n",
       "  'name': 'Montréal',\n",
       "  'state': '',\n",
       "  'country': 'FR',\n",
       "  'coord': {'lon': 2.15, 'lat': 43.200001}}]"
      ]
     },
     "execution_count": 32,
     "metadata": {},
     "output_type": "execute_result"
    }
   ],
   "source": [
    "# filter list to Canadian entries\n",
    "list(filter(lambda entry: entry['name'] == 'Montréal', cities))"
   ]
  }
 ],
 "metadata": {
  "kernelspec": {
   "display_name": "Python 3",
   "language": "python",
   "name": "python3"
  },
  "language_info": {
   "codemirror_mode": {
    "name": "ipython",
    "version": 3
   },
   "file_extension": ".py",
   "mimetype": "text/x-python",
   "name": "python",
   "nbconvert_exporter": "python",
   "pygments_lexer": "ipython3",
   "version": "3.8.3"
  }
 },
 "nbformat": 4,
 "nbformat_minor": 4
}
